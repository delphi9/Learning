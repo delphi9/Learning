{
  "nbformat": 4,
  "nbformat_minor": 0,
  "metadata": {
    "colab": {
      "name": "single layer network ex.ipynb",
      "version": "0.3.2",
      "provenance": [],
      "collapsed_sections": [],
      "include_colab_link": true
    },
    "kernelspec": {
      "name": "python3",
      "display_name": "Python 3"
    },
    "accelerator": "GPU"
  },
  "cells": [
    {
      "cell_type": "markdown",
      "metadata": {
        "id": "view-in-github",
        "colab_type": "text"
      },
      "source": [
        "<a href=\"https://colab.research.google.com/github/delphi9/Learning/blob/Deep-Learning/single_layer_network_ex.ipynb\" target=\"_parent\"><img src=\"https://colab.research.google.com/assets/colab-badge.svg\" alt=\"Open In Colab\"/></a>"
      ]
    },
    {
      "metadata": {
        "id": "jF7i3dGNH5ag",
        "colab_type": "code",
        "colab": {}
      },
      "cell_type": "code",
      "source": [
        "import tensorflow as tf\n",
        "import numpy as np\n",
        "import matplotlib.pyplot as plt\n",
        "from numpy.random import multivariate_normal, permutation\n",
        "import pandas as pd\n",
        "from pandas import DataFrame, Series\n",
        "\n",
        "np.random.seed(20160604)\n",
        "tf.set_random_seed(20160614)"
      ],
      "execution_count": 0,
      "outputs": []
    },
    {
      "metadata": {
        "id": "jPRMkxCpIK4j",
        "colab_type": "code",
        "colab": {}
      },
      "cell_type": "code",
      "source": [
        "mnist = input_data.read_"
      ],
      "execution_count": 0,
      "outputs": []
    },
    {
      "metadata": {
        "id": "2hw3zwinH4JL",
        "colab_type": "code",
        "colab": {}
      },
      "cell_type": "code",
      "source": [
        "def generate_datablock(n, mu, var, t):\n",
        "  data = multivariate_normal(mu, np.eye(2)*var, n)\n",
        "  df = DataFrame(data, columns = ['x1', 'x2'])\n",
        "  df['t'] = t\n",
        "  return df\n",
        "\n",
        "df0 = generate_datablock(15, [7,7], 22, 0)\n",
        "df1 = generate_datablock(15, [22,7], 22, 0)\n",
        "df2 = generate_datablock(10, [7,22], 22, 0)\n",
        "df3 = generate_datablock(25, [20,20], 22, 1)\n",
        "\n",
        "df = pd.concat([df0, df1, df2, df2], ignore_index = True)\n",
        "train_set = df.reindex(permutation(df.index)).reset_index(drop = True)\n"
      ],
      "execution_count": 0,
      "outputs": []
    },
    {
      "metadata": {
        "id": "sP0e9BstI-qt",
        "colab_type": "code",
        "colab": {}
      },
      "cell_type": "code",
      "source": [
        "train_x = train_set[['x1', 'x2']].as_matrix()\n",
        "train_t = train_set['t'].as_matrix().reshape([len(train_set),1])"
      ],
      "execution_count": 0,
      "outputs": []
    },
    {
      "metadata": {
        "id": "cS92ABv4JpS4",
        "colab_type": "code",
        "colab": {
          "base_uri": "https://localhost:8080/",
          "height": 91
        },
        "outputId": "4470127c-011c-42a0-b403-1f58feaf49cf"
      },
      "cell_type": "code",
      "source": [
        "num_units = 2\n",
        "mult = train_x.flatten().mean()\n",
        "x = tf.placeholder(tf.float32, [None,2])\n",
        "\n",
        "w1 = tf.Variable(tf.truncated_normal([2, num_units]))\n",
        "b1 = tf.Variable(tf.zeros([num_units]))\n",
        "hidden1 = tf.nn.tanh(tf.matmul(x, w1)+b1*mult)\n",
        "\n",
        "w0 = tf.Variable(tf.zeros([num_units, 1]))\n",
        "b0 = tf.Variable(tf.zeros([1]))\n",
        "p = tf.nn.sigmoid(tf.matmul(hidden1, w0)+b0*mult)\n"
      ],
      "execution_count": 5,
      "outputs": [
        {
          "output_type": "stream",
          "text": [
            "WARNING:tensorflow:From /usr/local/lib/python3.6/dist-packages/tensorflow/python/framework/op_def_library.py:263: colocate_with (from tensorflow.python.framework.ops) is deprecated and will be removed in a future version.\n",
            "Instructions for updating:\n",
            "Colocations handled automatically by placer.\n"
          ],
          "name": "stdout"
        }
      ]
    },
    {
      "metadata": {
        "id": "EoegCV8FK0aM",
        "colab_type": "code",
        "colab": {}
      },
      "cell_type": "code",
      "source": [
        "t = tf.placeholder(tf.float32, [None,1])\n",
        "loss = -tf.reduce_sum(t*tf.log(p)+(1-t)*tf.log(1-p))\n",
        "train_step = tf.train.GradientDescentOptimizer(0.001).minimize(loss)\n",
        "correct_prediction = tf.equal(tf.sign(p-0.5), tf.sign(t-0.5))\n",
        "accuracy = tf.reduce_mean(tf.cast(correct_prediction, tf.float32))\n",
        "                     "
      ],
      "execution_count": 0,
      "outputs": []
    },
    {
      "metadata": {
        "id": "Po_dZP90MIyf",
        "colab_type": "code",
        "colab": {
          "base_uri": "https://localhost:8080/",
          "height": 91
        },
        "outputId": "52fa1cd2-6795-421b-9533-9b0b36fadb76"
      },
      "cell_type": "code",
      "source": [
        "sess = tf.InteractiveSession()\n",
        "sess.run(tf.initialize_all_variables())"
      ],
      "execution_count": 9,
      "outputs": [
        {
          "output_type": "stream",
          "text": [
            "WARNING:tensorflow:From /usr/local/lib/python3.6/dist-packages/tensorflow/python/util/tf_should_use.py:193: initialize_all_variables (from tensorflow.python.ops.variables) is deprecated and will be removed after 2017-03-02.\n",
            "Instructions for updating:\n",
            "Use `tf.global_variables_initializer` instead.\n"
          ],
          "name": "stdout"
        }
      ]
    },
    {
      "metadata": {
        "id": "wJcMO0uFLSPj",
        "colab_type": "code",
        "colab": {
          "base_uri": "https://localhost:8080/",
          "height": 197
        },
        "outputId": "b2ca6821-4197-4cf6-c03e-7abddd7a4dfa"
      },
      "cell_type": "code",
      "source": [
        "i = 0\n",
        "for _ in range(1000):\n",
        "  i +=1\n",
        "  sess.run(train_step, feed_dict = {x:train_x, t:train_t})\n",
        "  if i % 100 == 0:\n",
        "    loss_val, acc_val = sess.run(\n",
        "      [loss, accuracy], feed_dict = {x:train_x, t:train_t})\n",
        "    print ('Step : %d, Loss : %f, Accuracy : %f'\n",
        "          % (i, loss_val, acc_val))"
      ],
      "execution_count": 10,
      "outputs": [
        {
          "output_type": "stream",
          "text": [
            "Step : 100, Loss : 0.061354, Accuracy : 1.000000\n",
            "Step : 200, Loss : 0.031561, Accuracy : 1.000000\n",
            "Step : 300, Loss : 0.021252, Accuracy : 1.000000\n",
            "Step : 400, Loss : 0.016021, Accuracy : 1.000000\n",
            "Step : 500, Loss : 0.012858, Accuracy : 1.000000\n",
            "Step : 600, Loss : 0.010737, Accuracy : 1.000000\n",
            "Step : 700, Loss : 0.009218, Accuracy : 1.000000\n",
            "Step : 800, Loss : 0.008074, Accuracy : 1.000000\n",
            "Step : 900, Loss : 0.007185, Accuracy : 1.000000\n",
            "Step : 1000, Loss : 0.006469, Accuracy : 1.000000\n"
          ],
          "name": "stdout"
        }
      ]
    },
    {
      "metadata": {
        "id": "qWMFAlanNTy9",
        "colab_type": "code",
        "colab": {
          "base_uri": "https://localhost:8080/",
          "height": 396
        },
        "outputId": "89f5ecd9-58e4-4a9b-a778-c60247935bc0"
      },
      "cell_type": "code",
      "source": [
        "train_set1 = train_set[train_set['t']==1]\n",
        "train_set2 = train_set[train_set['t']==0]\n",
        "\n",
        "fig = plt.figure(figsize = (6,6))\n",
        "subplot = fig.add_subplot(1,1,1)\n",
        "subplot.set_ylim([0,30])\n",
        "subplot.set_xlim([0,30])\n",
        "subplot.scatter(train_set1.x1, train_set1.x2, marker = 'x')\n",
        "subplot.scatter(train_set2.x1, train_set2.x2, marker = 'o')\n",
        "\n",
        "locations = []\n",
        "for x2 in np.linspace(0, 30, 100):\n",
        "  for x1 in np.linspace(0, 30, 100):\n",
        "     locations.append((x1, x2))\n",
        "p_vals = sess.run(p, feed_dict = {x:locations})\n",
        "p_vals = p_vals.reshape((100, 100))\n",
        "subplot.imshow(p_vals, origin = 'lower', extent = (0, 30, 0, 30), cmap = plt.cm.gray_r, alpha = 0.5)\n"
      ],
      "execution_count": 14,
      "outputs": [
        {
          "output_type": "execute_result",
          "data": {
            "text/plain": [
              "<matplotlib.image.AxesImage at 0x7f1ca5dd4f60>"
            ]
          },
          "metadata": {
            "tags": []
          },
          "execution_count": 14
        },
        {
          "output_type": "display_data",
          "data": {
            "image/png": "[encoded data removed]",
            "text/plain": [
              "<Figure size 432x432 with 1 Axes>"
            ]
          },
          "metadata": {
            "tags": []
          }
        }
      ]
    }
  ]
}