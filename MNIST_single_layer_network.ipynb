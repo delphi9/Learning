{
  "nbformat": 4,
  "nbformat_minor": 0,
  "metadata": {
    "colab": {
      "name": "MNIST single layer network.ipynb",
      "version": "0.3.2",
      "provenance": [],
      "collapsed_sections": [],
      "include_colab_link": true
    },
    "kernelspec": {
      "name": "python3",
      "display_name": "Python 3"
    }
  },
  "cells": [
    {
      "cell_type": "markdown",
      "metadata": {
        "id": "view-in-github",
        "colab_type": "text"
      },
      "source": [
        "<a href=\"https://colab.research.google.com/github/delphi9/Learning/blob/Deep-Learning/MNIST_single_layer_network.ipynb\" target=\"_parent\"><img src=\"https://colab.research.google.com/assets/colab-badge.svg\" alt=\"Open In Colab\"/></a>"
      ]
    },
    {
      "metadata": {
        "id": "L-IhjQ0z-TKC",
        "colab_type": "code",
        "colab": {}
      },
      "cell_type": "code",
      "source": [
        "import tensorflow as tf\n",
        "import numpy as np\n",
        "import matplotlib.pyplot as plt\n",
        "from tensorflow.examples.tutorials.mnist import input_data\n",
        "\n",
        "np.random.seed(20160612)\n",
        "tf.set_random_seed(20160612)"
      ],
      "execution_count": 0,
      "outputs": []
    },
    {
      "metadata": {
        "id": "HhqSY8cP-xZI",
        "colab_type": "code",
        "colab": {
          "base_uri": "https://localhost:8080/",
          "height": 89
        },
        "outputId": "3e24bc09-08da-4808-e4c9-498c4a953db5"
      },
      "cell_type": "code",
      "source": [
        "mnist = input_data.read_data_sets(\"/tmp/data/\", one_hot = True)"
      ],
      "execution_count": 14,
      "outputs": [
        {
          "output_type": "stream",
          "text": [
            "Extracting /tmp/data/train-images-idx3-ubyte.gz\n",
            "Extracting /tmp/data/train-labels-idx1-ubyte.gz\n",
            "Extracting /tmp/data/t10k-images-idx3-ubyte.gz\n",
            "Extracting /tmp/data/t10k-labels-idx1-ubyte.gz\n"
          ],
          "name": "stdout"
        }
      ]
    },
    {
      "metadata": {
        "id": "29C1X5GS_Em4",
        "colab_type": "code",
        "colab": {}
      },
      "cell_type": "code",
      "source": [
        "num_units = 1024  #은닉 계층 노드수\n",
        "\n",
        "x = tf.placeholder(tf.float32, [None, 784])\n",
        "\n",
        "w1 = tf.Variable(tf.truncated_normal([784, num_units]))\n",
        "b1 = tf.Variable(tf.zeros([num_units]))\n",
        "hidden1 = tf.nn.relu(tf.matmul(x, w1)+b1)\n",
        "\n",
        "w0 = tf.Variable(tf.zeros([num_units, 10]))\n",
        "b0 = tf.Variable(tf.zeros([10]))\n",
        "p = tf.nn.softmax(tf.matmul(hidden1, w0)+b0)"
      ],
      "execution_count": 0,
      "outputs": []
    },
    {
      "metadata": {
        "id": "BdWCQD-EB7HJ",
        "colab_type": "code",
        "colab": {
          "base_uri": "https://localhost:8080/",
          "height": 226
        },
        "outputId": "44404aa7-8922-4680-92cf-2b88a7dd8e9e"
      },
      "cell_type": "code",
      "source": [
        "#x, train set 지정 error\n",
        "\n",
        "train_x = train_set[['x1', 'x2']].as_matrix()\n",
        "train_t = train_set['t'].as_matrix().reshape([len(train_set),1])"
      ],
      "execution_count": 17,
      "outputs": [
        {
          "output_type": "error",
          "ename": "NameError",
          "evalue": "ignored",
          "traceback": [
            "\u001b[0;31m---------------------------------------------------------------------------\u001b[0m",
            "\u001b[0;31mNameError\u001b[0m                                 Traceback (most recent call last)",
            "\u001b[0;32m<ipython-input-17-ab53d4df310f>\u001b[0m in \u001b[0;36m<module>\u001b[0;34m()\u001b[0m\n\u001b[0;32m----> 1\u001b[0;31m \u001b[0mtrain_set\u001b[0m \u001b[0;34m=\u001b[0m \u001b[0mdf\u001b[0m\u001b[0;34m.\u001b[0m\u001b[0mreindex\u001b[0m\u001b[0;34m(\u001b[0m\u001b[0mpermutation\u001b[0m\u001b[0;34m(\u001b[0m\u001b[0mdf\u001b[0m\u001b[0;34m.\u001b[0m\u001b[0mindex\u001b[0m\u001b[0;34m)\u001b[0m\u001b[0;34m)\u001b[0m\u001b[0;34m.\u001b[0m\u001b[0mreset_index\u001b[0m\u001b[0;34m(\u001b[0m\u001b[0mdrop\u001b[0m \u001b[0;34m=\u001b[0m \u001b[0;32mTrue\u001b[0m\u001b[0;34m)\u001b[0m\u001b[0;34m\u001b[0m\u001b[0;34m\u001b[0m\u001b[0m\n\u001b[0m\u001b[1;32m      2\u001b[0m \u001b[0;34m\u001b[0m\u001b[0m\n\u001b[1;32m      3\u001b[0m \u001b[0mtrain_x\u001b[0m \u001b[0;34m=\u001b[0m \u001b[0mtrain_set\u001b[0m\u001b[0;34m[\u001b[0m\u001b[0;34m[\u001b[0m\u001b[0;34m'x1'\u001b[0m\u001b[0;34m,\u001b[0m \u001b[0;34m'x2'\u001b[0m\u001b[0;34m]\u001b[0m\u001b[0;34m]\u001b[0m\u001b[0;34m.\u001b[0m\u001b[0mas_matrix\u001b[0m\u001b[0;34m(\u001b[0m\u001b[0;34m)\u001b[0m\u001b[0;34m\u001b[0m\u001b[0;34m\u001b[0m\u001b[0m\n\u001b[1;32m      4\u001b[0m \u001b[0mtrain_t\u001b[0m \u001b[0;34m=\u001b[0m \u001b[0mtrain_set\u001b[0m\u001b[0;34m[\u001b[0m\u001b[0;34m't'\u001b[0m\u001b[0;34m]\u001b[0m\u001b[0;34m.\u001b[0m\u001b[0mas_matrix\u001b[0m\u001b[0;34m(\u001b[0m\u001b[0;34m)\u001b[0m\u001b[0;34m.\u001b[0m\u001b[0mreshape\u001b[0m\u001b[0;34m(\u001b[0m\u001b[0;34m[\u001b[0m\u001b[0mlen\u001b[0m\u001b[0;34m(\u001b[0m\u001b[0mtrain_set\u001b[0m\u001b[0;34m)\u001b[0m\u001b[0;34m,\u001b[0m\u001b[0;36m1\u001b[0m\u001b[0;34m]\u001b[0m\u001b[0;34m)\u001b[0m\u001b[0;34m\u001b[0m\u001b[0;34m\u001b[0m\u001b[0m\n",
            "\u001b[0;31mNameError\u001b[0m: name 'df' is not defined"
          ]
        }
      ]
    },
    {
      "metadata": {
        "id": "Vg70TqRx_moz",
        "colab_type": "code",
        "colab": {}
      },
      "cell_type": "code",
      "source": [
        "#오차 함수 loss, 트레이닝 train_step, 정확도 acc\n",
        "t = tf.placeholder(tf.float32, [None, 10])\n",
        "loss = -tf.reduce_sum(t*tf.log(p))\n",
        "train_step = tf.train.AdamOptimizer().minimize(loss)\n",
        "correct_prediction = tf.equal(tf.argmax(p,1),tf.argmax(t,1))\n",
        "acccuracy = tf.reduce_mean(tf.cast(correct_prediction, tf.float32))"
      ],
      "execution_count": 0,
      "outputs": []
    },
    {
      "metadata": {
        "id": "dCZCW6Y0AYOL",
        "colab_type": "code",
        "colab": {}
      },
      "cell_type": "code",
      "source": [
        "#세션, 파라미터 최적화, 출력\n",
        "sess = tf.InteractiveSession()\n",
        "sess.run(tf.initialize_all_variables())\n",
        "\n",
        "i = 0\n",
        "for _ in range(1000):\n",
        "  i +=1\n",
        "  sess.run(train_step, feed_dict = {x:train_x, t:train_t})\n",
        "  if i % 100 == 0:\n",
        "    loss_val, acc_val = sess.run(\n",
        "      [loss, accuracy], feed_dict = {x:train_x, t:train_t})\n",
        "    print ('Step : %d, Loss : %f, Accuracy : %f'\n",
        "          % (i, loss_val, acc_val))\n"
      ],
      "execution_count": 0,
      "outputs": []
    },
    {
      "metadata": {
        "id": "R51MlntWBCQD",
        "colab_type": "code",
        "colab": {}
      },
      "cell_type": "code",
      "source": [
        "train_set1 = train_set[train_set['t']==1]\n",
        "train_set2 = train_set[train_set['t']==0]\n",
        "\n",
        "fig = plt.figure(figsize = (6,6))\n",
        "subplot = fig.add_subplot(1,1,1)\n",
        "subplot.set_ylim([0,30])\n",
        "subplot.set_xlim([0,30])\n",
        "subplot.scatter(train_set1.x1, train_set1.x2, marker = 'x')\n",
        "subplot.scatter(train_set2.x1, train_set2.x2, marker = 'o')\n",
        "\n",
        "locations = []\n",
        "for x2 in np.linspace(0, 30, 100):\n",
        "  for x1 in np.linspace(0, 30, 100):\n",
        "     locations.append((x1, x2))\n",
        "p_vals = sess.run(p, feed_dict = {x:locations})\n",
        "p_vals = p_vals.reshape((100, 100))\n",
        "subplot.imshow(p_vals, origin = 'lower', extent = (0, 30, 0, 30), cmap = plt.cm.gray_r, alpha = 0.5)"
      ],
      "execution_count": 0,
      "outputs": []
    }
  ]
}